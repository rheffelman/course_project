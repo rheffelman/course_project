{
 "cells": [
  {
   "cell_type": "code",
   "execution_count": 2,
   "id": "3d11b1ed",
   "metadata": {},
   "outputs": [],
   "source": [
    "from PIL import Image, ImageTk\n",
    "import tkinter as tk\n",
    "\n",
    "def animate_raw_strip(path, frame_count, delay=100):\n",
    "    strip = Image.open(path)\n",
    "    frame_width = strip.width // frame_count\n",
    "    frame_height = strip.height\n",
    "\n",
    "    frames = [\n",
    "        strip.crop((i * frame_width, 0, (i + 1) * frame_width, frame_height))\n",
    "        for i in range(frame_count)\n",
    "    ]\n",
    "\n",
    "    root = tk.Tk()\n",
    "    label = tk.Label(root)\n",
    "    label.pack()\n",
    "\n",
    "    def update(index=0):\n",
    "        tk_frame = ImageTk.PhotoImage(frames[index])\n",
    "        label.configure(image=tk_frame)\n",
    "        label.image = tk_frame\n",
    "        root.after(delay, update, (index + 1) % frame_count)\n",
    "\n",
    "    root.after_idle(update)\n",
    "    root.mainloop()\n",
    "\n",
    "# Example usage\n",
    "fp_base = \"D:/SteamLibrary/steamapps/workshop/content/383980/2035128973/sprites/\"\n",
    "fp_end = \"ftilt_strip7.png\"\n",
    "animate_raw_strip(fp_base + fp_end, 7, delay=100)\n"
   ]
  }
 ],
 "metadata": {
  "kernelspec": {
   "display_name": "Python 3",
   "language": "python",
   "name": "python3"
  },
  "language_info": {
   "codemirror_mode": {
    "name": "ipython",
    "version": 3
   },
   "file_extension": ".py",
   "mimetype": "text/x-python",
   "name": "python",
   "nbconvert_exporter": "python",
   "pygments_lexer": "ipython3",
   "version": "3.12.10"
  }
 },
 "nbformat": 4,
 "nbformat_minor": 5
}
